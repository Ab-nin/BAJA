{
 "cells": [
  {
   "cell_type": "markdown",
   "id": "b5eb754a-2540-45b9-af0e-fff24dde6c2f",
   "metadata": {},
   "source": [
    "# Modelagem de uma CVT"
   ]
  },
  {
   "cell_type": "markdown",
   "id": "18610ade-a664-4fc5-b1e9-5146b9bf4938",
   "metadata": {},
   "source": [
    "#### Aluno: Abner Vieira Pereira"
   ]
  },
  {
   "cell_type": "markdown",
   "id": "28fb4a3e-9c9d-4b42-b907-b57d24406801",
   "metadata": {},
   "source": [
    " <b> Objetivo do estudo: <b>melhorar o desempenho longitudinal do veículo e otimizar o consumo de combustível"
   ]
  },
  {
   "cell_type": "markdown",
   "id": "7b3353cd-fa24-4974-a109-4f291a914300",
   "metadata": {},
   "source": [
    "---"
   ]
  },
  {
   "cell_type": "markdown",
   "id": "3e87cb0f-606c-4341-9e8b-8cad877a7e48",
   "metadata": {},
   "source": [
    "* Sumário\n",
    "    * Definição\n",
    "    * Funcionamento\n",
    "    * Classificação\n",
    "    * Vantagens e desvantagens\n",
    "    * Elementos\n",
    "    * Tipo de acionamento\n",
    "    * Modelagem da CVT\n",
    "        * Considerações e hipóteses\n",
    "        * Forças atuantes na correia e nas faces das polias\n",
    "    * Síntese da CVT\n",
    "   "
   ]
  },
  {
   "cell_type": "code",
   "execution_count": null,
   "id": "0737355c-08e5-4028-bb36-854ef0db7e64",
   "metadata": {},
   "outputs": [],
   "source": []
  }
 ],
 "metadata": {
  "kernelspec": {
   "display_name": "Python 3",
   "language": "python",
   "name": "python3"
  },
  "language_info": {
   "codemirror_mode": {
    "name": "ipython",
    "version": 3
   },
   "file_extension": ".py",
   "mimetype": "text/x-python",
   "name": "python",
   "nbconvert_exporter": "python",
   "pygments_lexer": "ipython3",
   "version": "3.8.8"
  }
 },
 "nbformat": 4,
 "nbformat_minor": 5
}
